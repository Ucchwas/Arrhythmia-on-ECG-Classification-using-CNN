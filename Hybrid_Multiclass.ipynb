{
  "nbformat": 4,
  "nbformat_minor": 0,
  "metadata": {
    "colab": {
      "provenance": [],
      "authorship_tag": "ABX9TyOYf6SaMGpiqy3BNP02k1Am",
      "include_colab_link": true
    },
    "kernelspec": {
      "name": "python3",
      "display_name": "Python 3"
    },
    "language_info": {
      "name": "python"
    }
  },
  "cells": [
    {
      "cell_type": "markdown",
      "metadata": {
        "id": "view-in-github",
        "colab_type": "text"
      },
      "source": [
        "<a href=\"https://colab.research.google.com/github/Ucchwas/Arrhythmia-on-ECG-Classification-using-CNN/blob/main/Hybrid_Multiclass.ipynb\" target=\"_parent\"><img src=\"https://colab.research.google.com/assets/colab-badge.svg\" alt=\"Open In Colab\"/></a>"
      ]
    },
    {
      "cell_type": "code",
      "execution_count": 1,
      "metadata": {
        "colab": {
          "base_uri": "https://localhost:8080/"
        },
        "id": "AZrqhzHRsBkj",
        "outputId": "715c4e35-a576-40e4-d293-64b442e454d1"
      },
      "outputs": [
        {
          "output_type": "stream",
          "name": "stdout",
          "text": [
            "Drive already mounted at /content/drive; to attempt to forcibly remount, call drive.mount(\"/content/drive\", force_remount=True).\n"
          ]
        }
      ],
      "source": [
        "from google.colab import drive\n",
        "drive.mount('/content/drive')"
      ]
    },
    {
      "cell_type": "code",
      "source": [
        "import numpy as np\n",
        "import pandas as pd\n",
        "import seaborn as sns\n",
        "import matplotlib.pyplot as plt\n",
        "from sklearn.metrics import classification_report\n",
        "from sklearn.model_selection import train_test_split\n",
        "from sklearn.metrics import f1_score\n",
        "from sklearn.metrics import confusion_matrix\n",
        "from keras.utils import to_categorical\n",
        "from sklearn.utils import class_weight\n",
        "import warnings\n",
        "warnings.filterwarnings('ignore')"
      ],
      "metadata": {
        "id": "9bCdCocPt1Im"
      },
      "execution_count": 2,
      "outputs": []
    },
    {
      "cell_type": "code",
      "source": [
        "df = pd.read_csv('/content/drive/MyDrive/Datasets/mitbih_train_Ihua.csv')"
      ],
      "metadata": {
        "id": "m_4FAR2BvZgm"
      },
      "execution_count": 3,
      "outputs": []
    },
    {
      "cell_type": "code",
      "source": [
        "df.drop('1',axis='columns',inplace=True)\n",
        "df.fillna(0, inplace=True)\n",
        "X = df.drop('Label1',axis='columns')\n",
        "y = testLabels = df.Label1.astype(np.float32)"
      ],
      "metadata": {
        "id": "e_EtVHPVvbq0"
      },
      "execution_count": 4,
      "outputs": []
    },
    {
      "cell_type": "code",
      "source": [
        "from sklearn.model_selection import train_test_split\n",
        "X_train, X_test, y_train, y_test = train_test_split(X, y, test_size= 0.2,train_size=0.8, random_state=15, stratify=y)\n",
        "import tensorflow as tf\n",
        "from tensorflow import keras\n",
        "from sklearn.metrics import confusion_matrix , classification_report"
      ],
      "metadata": {
        "id": "-1mtogIGvge0"
      },
      "execution_count": 5,
      "outputs": []
    },
    {
      "cell_type": "code",
      "source": [
        "from keras.layers import Input, Conv1D, MaxPooling1D, Flatten, Dense, LSTM, BatchNormalization, Reshape\n",
        "from keras.models import Model\n",
        "from tensorflow.keras.models import Model\n",
        "from sklearn.metrics import classification_report\n",
        "from keras.layers import concatenate"
      ],
      "metadata": {
        "id": "RUkM0jezvk1M"
      },
      "execution_count": 6,
      "outputs": []
    },
    {
      "cell_type": "code",
      "source": [
        "def CNN_RNN(X_train, y_train, X_test, y_test, loss, weights):\n",
        "    im_shape = (X_train.shape[1], 1)\n",
        "    inputs_cnn = Input(shape=im_shape, name='inputs_cnn')\n",
        "\n",
        "    # Convolutional layers\n",
        "    conv1_1 = Conv1D(64, 6, activation='relu', input_shape=im_shape)(inputs_cnn)\n",
        "    conv1_1 = BatchNormalization()(conv1_1)\n",
        "    pool1 = MaxPooling1D(pool_size=3, strides=2, padding=\"same\")(conv1_1)\n",
        "\n",
        "    conv2_1 = Conv1D(64, 3, activation='relu')(pool1)\n",
        "    conv2_1 = BatchNormalization()(conv2_1)\n",
        "    pool2 = MaxPooling1D(pool_size=2, strides=2, padding=\"same\")(conv2_1)\n",
        "\n",
        "    conv3_1 = Conv1D(64, 3, activation='relu')(pool2)\n",
        "    conv3_1 = BatchNormalization()(conv3_1)\n",
        "    pool3 = MaxPooling1D(pool_size=2, strides=2, padding=\"same\")(conv3_1)\n",
        "\n",
        "    flatten = Flatten()(pool3)\n",
        "    # Reshape the output of Flatten to be 3D\n",
        "    reshaped = Reshape((1, -1))(flatten)  # Reshape to (batch_size, 1, features)\n",
        "\n",
        "\n",
        "    # Recurrent layer (LSTM)\n",
        "    lstm_layer = LSTM(64, return_sequences=False)(reshaped)\n",
        "\n",
        "    # Fully connected layers\n",
        "    dense_end1 = Dense(64, activation='relu')(lstm_layer)\n",
        "    dense_end2 = Dense(32, activation='relu')(dense_end1)\n",
        "    main_output = Dense(5, activation='sigmoid', name='main_output')(dense_end2)\n",
        "\n",
        "    model = Model(inputs=inputs_cnn, outputs=main_output)\n",
        "    model.compile(optimizer='adam', loss='binary_crossentropy', metrics=['accuracy'])\n",
        "\n",
        "    if weights == -1:\n",
        "        model.fit(X_train, y_train, epochs=50)\n",
        "    else:\n",
        "        model.fit(X_train, y_train, epochs=50, class_weight=weights)\n",
        "\n",
        "    print(model.evaluate(X_test, y_test))\n",
        "\n",
        "    y_preds = model.predict(X_train)\n",
        "    y_preds = (y_preds > 0.5).astype(int)\n",
        "\n",
        "    print(\"Classification Report: \\n\", classification_report(y_train, y_preds))\n",
        "    return model, y_preds\n"
      ],
      "metadata": {
        "id": "zpvL1gNFvnGW"
      },
      "execution_count": 7,
      "outputs": []
    },
    {
      "cell_type": "code",
      "source": [
        "from keras.utils import to_categorical\n",
        "\n",
        "# Convert y_train to one-hot encoding\n",
        "y_train = to_categorical(y_train, num_classes=5)\n",
        "y_test = to_categorical(y_test, num_classes=5)"
      ],
      "metadata": {
        "id": "Vp1p7uYgLPpG"
      },
      "execution_count": 8,
      "outputs": []
    },
    {
      "cell_type": "code",
      "source": [
        "model,history=CNN_RNN(X_train,y_train,X_test,y_test, 'binary_crossentropy', -1)"
      ],
      "metadata": {
        "colab": {
          "base_uri": "https://localhost:8080/"
        },
        "id": "uyKUYscbv3J0",
        "outputId": "01f26728-7910-44a9-bc59-c0b7c87b350c"
      },
      "execution_count": 9,
      "outputs": [
        {
          "output_type": "stream",
          "name": "stdout",
          "text": [
            "Epoch 1/50\n",
            "2189/2189 [==============================] - 92s 37ms/step - loss: 0.0555 - accuracy: 0.9582\n",
            "Epoch 2/50\n",
            "2189/2189 [==============================] - 83s 38ms/step - loss: 0.0307 - accuracy: 0.9763\n",
            "Epoch 3/50\n",
            "2189/2189 [==============================] - 81s 37ms/step - loss: 0.0250 - accuracy: 0.9804\n",
            "Epoch 4/50\n",
            "2189/2189 [==============================] - 80s 36ms/step - loss: 0.0217 - accuracy: 0.9826\n",
            "Epoch 5/50\n",
            "2189/2189 [==============================] - 78s 36ms/step - loss: 0.0193 - accuracy: 0.9849\n",
            "Epoch 6/50\n",
            "2189/2189 [==============================] - 80s 37ms/step - loss: 0.0179 - accuracy: 0.9854\n",
            "Epoch 7/50\n",
            "2189/2189 [==============================] - 82s 37ms/step - loss: 0.0158 - accuracy: 0.9871\n",
            "Epoch 8/50\n",
            "2189/2189 [==============================] - 78s 36ms/step - loss: 0.0141 - accuracy: 0.9885\n",
            "Epoch 9/50\n",
            "2189/2189 [==============================] - 83s 38ms/step - loss: 0.0127 - accuracy: 0.9888\n",
            "Epoch 10/50\n",
            "2189/2189 [==============================] - 81s 37ms/step - loss: 0.0120 - accuracy: 0.9899\n",
            "Epoch 11/50\n",
            "2189/2189 [==============================] - 80s 37ms/step - loss: 0.0109 - accuracy: 0.9910\n",
            "Epoch 12/50\n",
            "2189/2189 [==============================] - 79s 36ms/step - loss: 0.0101 - accuracy: 0.9914\n",
            "Epoch 13/50\n",
            "2189/2189 [==============================] - 79s 36ms/step - loss: 0.0096 - accuracy: 0.9922\n",
            "Epoch 14/50\n",
            "2189/2189 [==============================] - 82s 37ms/step - loss: 0.0096 - accuracy: 0.9916\n",
            "Epoch 15/50\n",
            "2189/2189 [==============================] - 78s 36ms/step - loss: 0.0091 - accuracy: 0.9922\n",
            "Epoch 16/50\n",
            "2189/2189 [==============================] - 80s 37ms/step - loss: 0.0087 - accuracy: 0.9925\n",
            "Epoch 17/50\n",
            "2189/2189 [==============================] - 81s 37ms/step - loss: 0.0079 - accuracy: 0.9933\n",
            "Epoch 18/50\n",
            "2189/2189 [==============================] - 80s 36ms/step - loss: 0.0076 - accuracy: 0.9934\n",
            "Epoch 19/50\n",
            "2189/2189 [==============================] - 82s 37ms/step - loss: 0.0071 - accuracy: 0.9941\n",
            "Epoch 20/50\n",
            "2189/2189 [==============================] - 82s 37ms/step - loss: 0.0063 - accuracy: 0.9946\n",
            "Epoch 21/50\n",
            "2189/2189 [==============================] - 83s 38ms/step - loss: 0.0069 - accuracy: 0.9940\n",
            "Epoch 22/50\n",
            "2189/2189 [==============================] - 83s 38ms/step - loss: 0.0064 - accuracy: 0.9947\n",
            "Epoch 23/50\n",
            "2189/2189 [==============================] - 84s 38ms/step - loss: 0.0055 - accuracy: 0.9954\n",
            "Epoch 24/50\n",
            "2189/2189 [==============================] - 79s 36ms/step - loss: 0.0065 - accuracy: 0.9944\n",
            "Epoch 25/50\n",
            "2189/2189 [==============================] - 78s 36ms/step - loss: 0.0060 - accuracy: 0.9950\n",
            "Epoch 26/50\n",
            "2189/2189 [==============================] - 81s 37ms/step - loss: 0.0056 - accuracy: 0.9953\n",
            "Epoch 27/50\n",
            "2189/2189 [==============================] - 81s 37ms/step - loss: 0.0051 - accuracy: 0.9956\n",
            "Epoch 28/50\n",
            "2189/2189 [==============================] - 79s 36ms/step - loss: 0.0052 - accuracy: 0.9953\n",
            "Epoch 29/50\n",
            "2189/2189 [==============================] - 83s 38ms/step - loss: 0.0047 - accuracy: 0.9961\n",
            "Epoch 30/50\n",
            "2189/2189 [==============================] - 81s 37ms/step - loss: 0.0051 - accuracy: 0.9955\n",
            "Epoch 31/50\n",
            "2189/2189 [==============================] - 79s 36ms/step - loss: 0.0047 - accuracy: 0.9959\n",
            "Epoch 32/50\n",
            "2189/2189 [==============================] - 82s 37ms/step - loss: 0.0048 - accuracy: 0.9959\n",
            "Epoch 33/50\n",
            "2189/2189 [==============================] - 83s 38ms/step - loss: 0.0047 - accuracy: 0.9958\n",
            "Epoch 34/50\n",
            "2189/2189 [==============================] - 80s 37ms/step - loss: 0.0043 - accuracy: 0.9961\n",
            "Epoch 35/50\n",
            "2189/2189 [==============================] - 81s 37ms/step - loss: 0.0042 - accuracy: 0.9964\n",
            "Epoch 36/50\n",
            "2189/2189 [==============================] - 81s 37ms/step - loss: 0.0043 - accuracy: 0.9963\n",
            "Epoch 37/50\n",
            "2189/2189 [==============================] - 79s 36ms/step - loss: 0.0040 - accuracy: 0.9965\n",
            "Epoch 38/50\n",
            "2189/2189 [==============================] - 83s 38ms/step - loss: 0.0038 - accuracy: 0.9967\n",
            "Epoch 39/50\n",
            "2189/2189 [==============================] - 83s 38ms/step - loss: 0.0043 - accuracy: 0.9964\n",
            "Epoch 40/50\n",
            "2189/2189 [==============================] - 81s 37ms/step - loss: 0.0034 - accuracy: 0.9971\n",
            "Epoch 41/50\n",
            "2189/2189 [==============================] - 83s 38ms/step - loss: 0.0041 - accuracy: 0.9965\n",
            "Epoch 42/50\n",
            "2189/2189 [==============================] - 94s 43ms/step - loss: 0.0038 - accuracy: 0.9968\n",
            "Epoch 43/50\n",
            "2189/2189 [==============================] - 95s 43ms/step - loss: 0.0038 - accuracy: 0.9968\n",
            "Epoch 44/50\n",
            "2189/2189 [==============================] - 120s 55ms/step - loss: 0.0029 - accuracy: 0.9977\n",
            "Epoch 45/50\n",
            "2189/2189 [==============================] - 94s 43ms/step - loss: 0.0037 - accuracy: 0.9967\n",
            "Epoch 46/50\n",
            "2189/2189 [==============================] - 87s 40ms/step - loss: 0.0034 - accuracy: 0.9969\n",
            "Epoch 47/50\n",
            "2189/2189 [==============================] - 99s 45ms/step - loss: 0.0038 - accuracy: 0.9968\n",
            "Epoch 48/50\n",
            "2189/2189 [==============================] - 99s 45ms/step - loss: 0.0037 - accuracy: 0.9969\n",
            "Epoch 49/50\n",
            "2189/2189 [==============================] - 105s 48ms/step - loss: 0.0040 - accuracy: 0.9966\n",
            "Epoch 50/50\n",
            "2189/2189 [==============================] - 93s 43ms/step - loss: 0.0033 - accuracy: 0.9973\n",
            "548/548 [==============================] - 6s 10ms/step - loss: 0.0370 - accuracy: 0.9821\n",
            "[0.03696854040026665, 0.9820684194564819]\n",
            "2189/2189 [==============================] - 26s 11ms/step\n",
            "Classification Report: \n",
            "               precision    recall  f1-score   support\n",
            "\n",
            "           0       1.00      1.00      1.00     57978\n",
            "           1       0.99      0.91      0.95      1778\n",
            "           2       1.00      0.96      0.98      4630\n",
            "           3       0.82      0.94      0.88       513\n",
            "           4       0.99      1.00      0.99      5145\n",
            "\n",
            "   micro avg       0.99      0.99      0.99     70044\n",
            "   macro avg       0.96      0.96      0.96     70044\n",
            "weighted avg       0.99      0.99      0.99     70044\n",
            " samples avg       0.99      0.99      0.99     70044\n",
            "\n"
          ]
        }
      ]
    },
    {
      "cell_type": "code",
      "source": [],
      "metadata": {
        "id": "T_P7-QWkkSvy"
      },
      "execution_count": null,
      "outputs": []
    },
    {
      "cell_type": "code",
      "source": [
        "model.save(\"Hybrid_Multiclass.h5\")"
      ],
      "metadata": {
        "id": "BX12huH455yE"
      },
      "execution_count": 10,
      "outputs": []
    },
    {
      "cell_type": "code",
      "source": [
        "import tensorflow as tf\n",
        "\n",
        "# Load the model\n",
        "model = tf.keras.models.load_model(\"Hybrid_Multiclass.h5\")"
      ],
      "metadata": {
        "id": "JV-FajTD6IHK"
      },
      "execution_count": 11,
      "outputs": []
    },
    {
      "cell_type": "code",
      "source": [
        "run_model = tf.function(lambda x: model(x))\n",
        "# This is important, let's fix the input size.\n",
        "BATCH_SIZE = 1\n",
        "STEPS = 186\n",
        "INPUT_SIZE = 1\n",
        "concrete_func = run_model.get_concrete_function(\n",
        "    tf.TensorSpec([BATCH_SIZE, STEPS, INPUT_SIZE], model.inputs[0].dtype))\n",
        "\n",
        "# model directory.\n",
        "MODEL_DIR = \"keras_lstm\"\n",
        "model.save(MODEL_DIR, save_format=\"tf\", signatures=concrete_func)\n",
        "\n",
        "converter = tf.lite.TFLiteConverter.from_saved_model(MODEL_DIR)\n",
        "tflite_model = converter.convert()\n",
        "open(\"Hybrid_Multiclass.tflite\", \"wb\").write(tflite_model)"
      ],
      "metadata": {
        "colab": {
          "base_uri": "https://localhost:8080/"
        },
        "id": "u8neo8I-TDG8",
        "outputId": "440ba2bb-f6d5-4ac9-f445-9057dcf3767b"
      },
      "execution_count": 12,
      "outputs": [
        {
          "output_type": "execute_result",
          "data": {
            "text/plain": [
              "1646952"
            ]
          },
          "metadata": {},
          "execution_count": 12
        }
      ]
    }
  ]
}